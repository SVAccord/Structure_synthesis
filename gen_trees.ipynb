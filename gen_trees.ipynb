{
 "cells": [
  {
   "cell_type": "code",
   "execution_count": 18,
   "metadata": {},
   "outputs": [],
   "source": [
    "'''try to get all realized structures from eqg table on the field of eq. groups\n",
    "try to check ready trees if they are correct'''\n",
    "# input - col strings like: '1 2 3 4 5' + col eqg value\n",
    "\n",
    "#можно еще ускорить если производить запись названий групп в буквенном виде без пробелов\n",
    "\n",
    "import numpy as np\n",
    "import pandas as pd\n",
    "from itertools import product\n",
    "from itertools import combinations\n",
    "from itertools import chain\n",
    "import string\n",
    "import time\n",
    "import math\n",
    "import re\n",
    "\n",
    "def listToString_s(list1):\n",
    "    return (' '.join(map(str, list1)))\n",
    "def str2hexstr(txt):\n",
    "    t = [np.base_repr(int(i), base=16) for i in txt.split()]\n",
    "    st = ''\n",
    "    flag_once = 0\n",
    "    for i in t:\n",
    "        if flag_once:\n",
    "            st = st + ' ' + i\n",
    "        else:\n",
    "            st += i\n",
    "            flag_once = 1\n",
    "    return st\n",
    "\n",
    "num2alpha = dict(zip(range(1, 27), string.ascii_lowercase))\n",
    "\n",
    "def digit2alpha(txt):\n",
    "    '''converts string of digits into letters'''\n",
    "    # add defence from input 0 and bigger than 26\n",
    "    my_list = txt.split()\n",
    "    txt_res = ''\n",
    "    for i in range(len(my_list)):\n",
    "        txt_res += num2alpha[int(my_list[i])] + ' '\n",
    "    return txt_res.rstrip()\n",
    "\n",
    "def alpha2digit(txt):\n",
    "    '''converts string of letters into digits'''\n",
    "    mapping = {\"a\": 1, \"b\": 2, \"c\": 3, \"d\": 4, \"e\": 5, \"f\": 6, \"g\": 7, \"h\": 8,\n",
    "           \"i\": 9, \"j\": 10, \"k\": 11, \"l\": 12, \"m\": 13, \"n\": 14, \"o\": 15,\n",
    "           \"p\": 16, \"q\":17,\"r\":18, \"s\": 19, \"t\": 20,\"u\": 21, \"v\": 22, \"w\": 23, \"x\": 24, \"y\": 25, \"z\":26}\n",
    "    for k,v in mapping.items():\n",
    "        v = str(v)\n",
    "        txt = txt.replace(k,v)\n",
    "    return txt\n",
    "\n",
    "def is_uppcase_in_shell(text):\n",
    "    #flag_up = 0\n",
    "    flag_low = 0\n",
    "    for i in range(len(text)):\n",
    "        if text[i] == '(':\n",
    "            flag_low = 0\n",
    "            continue\n",
    "        if text[i].islower():\n",
    "            flag_low = 1\n",
    "            continue\n",
    "        if text[i] == ')' and flag_low == 0:\n",
    "            #flag_up = 1\n",
    "            #break\n",
    "            return 1\n",
    "    #if flag_up: \n",
    "    return 0    \n",
    "\n",
    "def braket2ml(text): \n",
    "# не работает для двузначных\n",
    "    txt = ''\n",
    "    mnum = 1\n",
    "    #for i in range(len(text)):\n",
    "    i = 0\n",
    "    while i < len(text):\n",
    "        if text[i] == '(':\n",
    "            txt += 'M' + str(mnum) + ' '\n",
    "            mnum += 1\n",
    "            i += 1\n",
    "            continue\n",
    "        if i < len(text)-1:\n",
    "            if text[i].isdigit() and text[i+1].isdigit():\n",
    "                txt += 'l' + text[i] + text[i+1] + ' '\n",
    "                i += 2\n",
    "                continue\n",
    "        if text[i].isdigit():\n",
    "            txt += 'l' + text[i] + ' '\n",
    "        i += 1\n",
    "    return txt.rstrip()\n",
    "\n",
    "def branch_switch(tree):\n",
    "    #print('l', tree.left)\n",
    "    #print('r', tree.right)\n",
    "    flag_r_end, flag_l_end = 0, 0\n",
    "    if len(repr(tree.right)) > 3:\n",
    "        branch_switch(tree.right)\n",
    "    else: flag_r_end = 1\n",
    "    if len(repr(tree.left)) > 3:\n",
    "        branch_switch(tree.left)\n",
    "    else: flag_l_end = 1\n",
    "    if not flag_r_end or not flag_l_end:\n",
    "        if len(repr(tree.left)) > len(repr(tree.right)):\n",
    "            #print('change', tree.left, tree.right)\n",
    "            tree.right, tree.left = tree.left, tree.right"
   ]
  },
  {
   "cell_type": "code",
   "execution_count": 11,
   "metadata": {
    "scrolled": true
   },
   "outputs": [
    {
     "name": "stdout",
     "output_type": "stream",
     "text": [
      "len of data in scale: 473\n",
      "last string: 1 2 3 4 5 6 7 8 9 10\n"
     ]
    }
   ],
   "source": [
    "eqglist = pd.read_excel('210706_psy_allgroups_eqg_res_s.xlsx')\n",
    "#eqglist = pd.read_excel('210805_postcode35_l9_ag.xlsx')\n",
    "#eqglist = pd.read_excel('210702_arct_allgroups_eqg_res_min.xlsx')\n",
    "lnum = 10\n",
    "scale = 4\n",
    "# better than set lnum - to find it from data\n",
    "\n",
    "eqglist = eqglist[eqglist.iloc[:,1] <= scale]\n",
    "eqglist.reset_index(inplace = True, drop = True) \n",
    "# sort groups not in scale\n",
    "eqglist = eqglist.iloc[:,0]\n",
    "\n",
    "if len(eqglist.iloc[len(eqglist)-1].split()) < lnum-1:\n",
    "    print(\"no available structures in input data\")\n",
    "else:\n",
    "    # add full list structure on the last string\n",
    "    eqglist[len(eqglist)] = listToString_s([i for i in range(1, lnum+1)])\n",
    "\n",
    "print(\"len of data in scale:\", len(eqglist))\n",
    "print(\"last string:\", eqglist.iloc[len(eqglist)-1])\n",
    "eqglist\n",
    "#convert string of digits into letters\n",
    "for i in range(0,len(eqglist)):\n",
    "    eqglist[i] = digit2alpha(eqglist[i])\n",
    "eqglist\n",
    "\n",
    "# need to sort eqglist dy length of group\n",
    "# проверку вхождения можно делать через in\n",
    "lol = [[] for i in range(lnum-1)]\n",
    "for i in range(len(eqglist)):\n",
    "    lol[len(eqglist[i].split())-2].append(eqglist[i])"
   ]
  },
  {
   "cell_type": "code",
   "execution_count": 9,
   "metadata": {},
   "outputs": [],
   "source": [
    "class Node(object):\n",
    "    def __init__(self, left, right):\n",
    "        self.left = left\n",
    "        self.right = right\n",
    "\n",
    "    def __repr__(self):\n",
    "        return '(%s %s)' % (self.left, self.right)\n",
    "\n",
    "def add_leaf(tree, label):\n",
    "    yield Node(label, tree)\n",
    "    if isinstance(tree, Node):\n",
    "        for left in add_leaf(tree.left, label):\n",
    "            yield Node(left, tree.right)\n",
    "        for right in add_leaf(tree.right, label):\n",
    "            yield Node(tree.left, right)\n",
    "    \n",
    "def enum_unordered(labels):\n",
    "    if len(labels) == 1:\n",
    "        yield labels[0]\n",
    "    else:\n",
    "        for tree in enum_unordered(labels[1:]):\n",
    "            for new_tree in add_leaf(tree, labels[0]):\n",
    "                yield new_tree\n",
    "                               \n",
    "def check_if_tree_correct(tree):\n",
    "    # check if tree in base\n",
    "    if isinstance(tree, Node):\n",
    "        one = repr(tree)\n",
    "        one = re.sub(\"\\(|\\)\", \"\", one)\n",
    "        #one = one.lower()\n",
    "        one = ' '.join(sorted(one.split()))\n",
    "        flag_1 = 0\n",
    "        #print(one)\n",
    "        one_len = len(one.split())-2\n",
    "        for i in range(len(lol[one_len])):\n",
    "            # do search only in list w corresp num of dig\n",
    "            if lol[one_len][i] == one: \n",
    "                flag_1 = 1\n",
    "                break\n",
    "        if not flag_1:\n",
    "            return 0\n",
    "            #print(space+\"nt_l\", new_tree)\n",
    "        left = check_if_tree_correct(tree.left)\n",
    "        right = check_if_tree_correct(tree.right)\n",
    "        if left and right: return 1\n",
    "        else: return 0\n",
    "    # if not tree - output error\n",
    "    return 1\n",
    "\n",
    "        "
   ]
  },
  {
   "cell_type": "code",
   "execution_count": null,
   "metadata": {
    "scrolled": true
   },
   "outputs": [],
   "source": [
    "# for tree in add_leaf(Node(\"b\", \"c\"), \"a\"):\n",
    "#     print(tree)\n",
    "\n",
    "start = time.time()\n",
    "cnt = 0\n",
    "store_tree = []\n",
    "for tree in enum_unordered((\"a\", \"b\", \"c\", \"d\", 'e', \"f\", \"g\", \"h\", \"i\", 'j')):\n",
    "#for tree in enum_unordered((\"a\",\"b\",\"c\",\"d\",'e')):\n",
    "    if check_if_tree_correct(tree):\n",
    "        store_tree.append(tree)\n",
    "        #print(tree)\n",
    "        cnt += 1\n",
    "    \n",
    "print(cnt)\n",
    "finish = time.time()\n",
    "result = finish - start\n",
    "print(\"Program time: \" + str(result) + \" seconds.\")\n",
    "for i in range(len(store_tree)):\n",
    "    print(i, ' ', store_tree[i])\n",
    "\n",
    "# нужно сделать проверку - если внутри любой скобки только заглавные - выкинуть"
   ]
  },
  {
   "cell_type": "code",
   "execution_count": null,
   "metadata": {
    "scrolled": true
   },
   "outputs": [],
   "source": [
    "# need to convert notes to the left tree view\n",
    "for i in range(len(store_tree)):\n",
    "    branch_switch(store_tree[i])\n",
    "    print(i, ' ', store_tree[i])"
   ]
  },
  {
   "cell_type": "code",
   "execution_count": 14,
   "metadata": {
    "scrolled": true
   },
   "outputs": [
    {
     "data": {
      "text/plain": [
       "((b c) (e ((a f) (g ((d h) (i j))))))"
      ]
     },
     "execution_count": 14,
     "metadata": {},
     "output_type": "execute_result"
    }
   ],
   "source": [
    "# glimpse\n",
    "store_tree[12]"
   ]
  },
  {
   "cell_type": "code",
   "execution_count": 21,
   "metadata": {},
   "outputs": [],
   "source": [
    "# convert notes to Ml format\n",
    "store_tree_ml =[]\n",
    "for i in range(len(store_tree)):\n",
    "    text1 = alpha2digit(repr(store_tree[i]))\n",
    "    store_tree_ml.append(braket2ml(text1))"
   ]
  },
  {
   "cell_type": "code",
   "execution_count": 22,
   "metadata": {},
   "outputs": [
    {
     "data": {
      "text/plain": [
       "'M1 l2 M2 M3 l1 l3 M4 l5 M5 l6 M6 l7 M7 M8 l4 l8 M9 l9 l10'"
      ]
     },
     "execution_count": 22,
     "metadata": {},
     "output_type": "execute_result"
    }
   ],
   "source": [
    "# glimpse\n",
    "store_tree_ml[0]"
   ]
  },
  {
   "cell_type": "code",
   "execution_count": 23,
   "metadata": {},
   "outputs": [],
   "source": [
    "df = pd.DataFrame(store_tree_ml[0:1048576])\n",
    "#df = pd.DataFrame(store_tree_ml)\n",
    "df.to_excel('210819_psy_l10d4_ssml_p1.xlsx', engine=\"xlsxwriter\", index=False)\n",
    "df = pd.DataFrame(store_tree_ml[1048576:len(store_tree_ml)])\n",
    "df.to_excel('210819_psy_l10d4_ssml_p2.xlsx', engine=\"xlsxwriter\", index=False)\n",
    "        "
   ]
  }
 ],
 "metadata": {
  "kernelspec": {
   "display_name": "Python 3",
   "language": "python",
   "name": "python3"
  },
  "language_info": {
   "codemirror_mode": {
    "name": "ipython",
    "version": 3
   },
   "file_extension": ".py",
   "mimetype": "text/x-python",
   "name": "python",
   "nbconvert_exporter": "python",
   "pygments_lexer": "ipython3",
   "version": "3.8.5"
  }
 },
 "nbformat": 4,
 "nbformat_minor": 4
}
